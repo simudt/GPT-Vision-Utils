{
 "cells": [
  {
   "cell_type": "markdown",
   "metadata": {},
   "source": [
    "## Talk to PDF Images with GPT-4V"
   ]
  },
  {
   "cell_type": "markdown",
   "metadata": {},
   "source": [
    "### Install Requirements"
   ]
  },
  {
   "cell_type": "code",
   "execution_count": null,
   "metadata": {},
   "outputs": [],
   "source": [
    "!pip3 install PyMuPDF"
   ]
  },
  {
   "cell_type": "markdown",
   "metadata": {},
   "source": [
    "### Import Requirements"
   ]
  },
  {
   "cell_type": "code",
   "execution_count": null,
   "metadata": {},
   "outputs": [],
   "source": [
    "# Required Imports\n",
    "import os\n",
    "import fitz\n",
    "import base64\n",
    "import requests"
   ]
  },
  {
   "cell_type": "markdown",
   "metadata": {},
   "source": [
    "### Export OAI Key"
   ]
  },
  {
   "cell_type": "code",
   "execution_count": null,
   "metadata": {},
   "outputs": [],
   "source": [
    "# OpenAI API Key\n",
    "API_KEY = \"<YOUR_API_KEY>\""
   ]
  },
  {
   "cell_type": "markdown",
   "metadata": {},
   "source": [
    "### Remote PDF Process"
   ]
  },
  {
   "cell_type": "code",
   "execution_count": null,
   "metadata": {},
   "outputs": [],
   "source": [
    "images_folder = \"data/images\"\n",
    "os.makedirs(images_folder, exist_ok=True)\n",
    "\n",
    "\n",
    "def download_pdf(url):\n",
    "    response = requests.get(url)\n",
    "    response.raise_for_status()\n",
    "\n",
    "    pdf_path = os.path.join(\"data\", \"pdfs\", os.path.basename(url))\n",
    "    os.makedirs(os.path.dirname(pdf_path), exist_ok=True)\n",
    "\n",
    "    with open(pdf_path, \"wb\") as f:\n",
    "        f.write(response.content)\n",
    "\n",
    "    return pdf_path\n",
    "\n",
    "\n",
    "def save_images_from_pdf(pdf_path):\n",
    "    pdf_name = os.path.splitext(os.path.basename(pdf_path))[0]\n",
    "    images_folder = os.path.join(\"data\", \"images\", pdf_name)\n",
    "    os.makedirs(images_folder, exist_ok=True)\n",
    "\n",
    "    image_save_paths = []\n",
    "\n",
    "    pdf_document = fitz.open(pdf_path)\n",
    "    for page_number in range(len(pdf_document)):\n",
    "        page = pdf_document[page_number]\n",
    "\n",
    "        image_list = page.get_images(full=True)\n",
    "        for image_index, img in enumerate(image_list, start=1):\n",
    "            xref = img[0]\n",
    "            base_image = pdf_document.extract_image(xref)\n",
    "            image_bytes = base_image[\"image\"]\n",
    "            image_filename = f\"image_page{page_number + 1}_{image_index}.png\"\n",
    "            image_save_path = os.path.join(images_folder, image_filename)\n",
    "            image_save_paths.append(image_save_path)\n",
    "\n",
    "            with open(image_save_path, \"wb\") as image_file:\n",
    "                image_file.write(image_bytes)\n",
    "\n",
    "            print(f\"Saved image to path: {image_save_path}\")\n",
    "\n",
    "    pdf_document.close()\n",
    "    return image_save_paths"
   ]
  },
  {
   "cell_type": "markdown",
   "metadata": {},
   "source": [
    "### Request to API"
   ]
  },
  {
   "cell_type": "code",
   "execution_count": null,
   "metadata": {},
   "outputs": [],
   "source": [
    "# Constants\n",
    "API_URL = \"https://api.openai.com/v1/chat/completions\"\n",
    "\n",
    "\n",
    "def encode_image(image_path):\n",
    "    with open(image_path, \"rb\") as image_file:\n",
    "        return base64.b64encode(image_file.read()).decode(\"utf-8\")\n",
    "\n",
    "\n",
    "def get_image_description(image_data):\n",
    "    headers = {\"Content-Type\": \"application/json\", \"Authorization\": f\"Bearer {API_KEY}\"}\n",
    "    payload = {\n",
    "        \"model\": \"gpt-4-vision-preview\",\n",
    "        \"messages\": [\n",
    "            {\n",
    "                \"role\": \"user\",\n",
    "                \"content\": [\n",
    "                    {\n",
    "                        \"type\": \"text\",\n",
    "                        \"text\": (\n",
    "                            \"I have a collection of images that have been extracted from a PDF document\"\n",
    "                            \"Each image may contain a diverse array of elements, such as text, \"\n",
    "                            \"figures, charts, photographs, illustrations, or anything else. Please describe the content, \"\n",
    "                            \"context, and any notable details of the following image.\"\n",
    "                        ),\n",
    "                    },\n",
    "                    {\n",
    "                        \"type\": \"image_url\",\n",
    "                        \"image_url\": {\"url\": f\"data:image/jpeg;base64,{image_data}\"},\n",
    "                    },\n",
    "                ],\n",
    "            }\n",
    "        ],\n",
    "        \"max_tokens\": 300,\n",
    "    }\n",
    "    response = requests.post(API_URL, headers=headers, json=payload)\n",
    "    return response.json()\n",
    "\n",
    "\n",
    "def process_images_from_pdf(PDF_LINK):\n",
    "    local_pdf_path = download_pdf(PDF_LINK)\n",
    "    images_path = save_images_from_pdf(local_pdf_path)\n",
    "    for image_path in images_path:\n",
    "        try:\n",
    "            base64_image = encode_image(image_path)\n",
    "            result = get_image_description(base64_image)\n",
    "            print(\"Result: \", result)\n",
    "        except Exception as e:\n",
    "            print(f\"An error occurred while processing {image_path}: {e}\")\n",
    "\n",
    "\n",
    "if __name__ == \"__main__\":\n",
    "    PDF_LINK = \"https://arxiv.org/pdf/<EXAMPLE_PDF>.pdf\"\n",
    "    process_images_from_pdf(PDF_LINK)"
   ]
  }
 ],
 "metadata": {
  "kernelspec": {
   "display_name": "Python 3",
   "language": "python",
   "name": "python3"
  },
  "language_info": {
   "codemirror_mode": {
    "name": "ipython",
    "version": 3
   },
   "file_extension": ".py",
   "mimetype": "text/x-python",
   "name": "python",
   "nbconvert_exporter": "python",
   "pygments_lexer": "ipython3",
   "version": "3.11.5"
  }
 },
 "nbformat": 4,
 "nbformat_minor": 2
}
